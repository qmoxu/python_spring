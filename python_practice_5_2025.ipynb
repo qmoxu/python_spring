{
  "nbformat": 4,
  "nbformat_minor": 0,
  "metadata": {
    "colab": {
      "provenance": []
    },
    "kernelspec": {
      "name": "python3",
      "display_name": "Python 3"
    },
    "language_info": {
      "name": "python"
    }
  },
  "cells": [
    {
      "cell_type": "markdown",
      "source": [
        "# I. OOP"
      ],
      "metadata": {
        "id": "5qV_sehzFCTp"
      }
    },
    {
      "cell_type": "markdown",
      "source": [
        "1. (6б). Створіть клас Building, додайте три атрибути, один з яких має значення за замовчуванням та два методи на свій розсуд."
      ],
      "metadata": {
        "id": "tx_U_hOALyfg"
      }
    },
    {
      "cell_type": "code",
      "source": [
        "class Building:\n",
        "  def __init__(self,num_of_floors,has_shelter,num_of_entrance = 1):\n",
        "    self.num_of_entrance = num_of_entrance\n",
        "    self.num_of_floors = num_of_floors\n",
        "    self.has_shelter = has_shelter\n",
        "\n",
        "  def create_shelter(self):\n",
        "    if(self.has_shelter == False):\n",
        "      self.has_shelter = True\n",
        "      self.num_of_entrance +=1\n",
        "      self.num_of_floors +=1\n",
        "    else:\n",
        "      return None\n",
        "  def double_the_building(self):\n",
        "    self.num_of_entrance *=2\n",
        "    self.self.num_of_floors *=2\n",
        "  def print_building(self):\n",
        "    return f\"Floors: {self.num_of_floors}, Shelter: {self.has_shelter}, Entrances: {self.num_of_entrance}\""
      ],
      "metadata": {
        "id": "-Vf895KaL88N"
      },
      "execution_count": 29,
      "outputs": []
    },
    {
      "cell_type": "markdown",
      "source": [
        "2. (2б). Створіть два обʼєкти цього класу, де один з обʼєктів створюється із дефолтним значенням атрибуту. На одному обʼєкті отримайте значення його атрибуту, а на іншому викличте один з його методів."
      ],
      "metadata": {
        "id": "X_UlOMB0L93w"
      }
    },
    {
      "cell_type": "code",
      "source": [
        "building1 = Building (10,True)\n",
        "building2 = Building(4,False,4)\n",
        "res1 = building1.num_of_floors\n",
        "building2.print_building()\n",
        "building2.create_shelter()\n",
        "building2.print_building()"
      ],
      "metadata": {
        "id": "7gBu0ESOMCpG",
        "colab": {
          "base_uri": "https://localhost:8080/",
          "height": 36
        },
        "outputId": "fbb36c79-d41a-47b6-ed4e-c522b63b51c3"
      },
      "execution_count": 30,
      "outputs": [
        {
          "output_type": "execute_result",
          "data": {
            "text/plain": [
              "'Floors: 5, Shelter: True, Entrances: 5'"
            ],
            "application/vnd.google.colaboratory.intrinsic+json": {
              "type": "string"
            }
          },
          "metadata": {},
          "execution_count": 30
        }
      ]
    },
    {
      "cell_type": "markdown",
      "source": [
        "3. (5б). Створіть клас, де атрибути мають різні рівні доступу. Спробуйте отримати їхні значення та опишіть результати."
      ],
      "metadata": {
        "id": "HoqSCZt1MHn5"
      }
    },
    {
      "cell_type": "code",
      "source": [
        "class BuildingNew:\n",
        "    def __init__(self, num_of_floors, has_shelter, num_of_entrance=1):\n",
        "        self.num_of_floors = num_of_floors\n",
        "        self._has_shelter = has_shelter\n",
        "        self.__num_of_entrance = num_of_entrance\n",
        "\n",
        "    def print_building(self):\n",
        "        return f\"Floors: {self.num_of_floors}, Shelter: {self._has_shelter}, Entrances: {self.__num_of_entrance}\"\n",
        "\n",
        "\n",
        "building1 = BuildingNew(5, True)\n",
        "\n",
        "print(\"Access to floors:\", building1.num_of_floors)\n",
        "print(\"Access to _has_shelter:\", building1._has_shelter)\n",
        "try:\n",
        "    print(\"Access to private attribute (__num_of_entrance):\", building1.__num_of_entrance)\n",
        "except AttributeError as e:\n",
        "    print(\"Error:\", e)\n",
        "\n",
        "print(\"Through method print_building:\", building1.print_building())\n",
        "print(\"List of attributes:\", building1.__dict__)"
      ],
      "metadata": {
        "id": "r9b3vJxBMSPV",
        "colab": {
          "base_uri": "https://localhost:8080/"
        },
        "outputId": "3f754f6c-8aac-435b-c893-d77dea3da10f"
      },
      "execution_count": 31,
      "outputs": [
        {
          "output_type": "stream",
          "name": "stdout",
          "text": [
            "Access to floors: 5\n",
            "Access to _has_shelter: True\n",
            "Error: 'BuildingNew' object has no attribute '__num_of_entrance'\n",
            "Through method print_building: Floors: 5, Shelter: True, Entrances: 1\n",
            "List of attributes: {'num_of_floors': 5, '_has_shelter': True, '_BuildingNew__num_of_entrance': 1}\n"
          ]
        }
      ]
    },
    {
      "cell_type": "markdown",
      "source": [
        "4. (7б). Як ви розумієте термін self? Для чого використовується метод __init __?"
      ],
      "metadata": {
        "id": "5op2m2vgMSkZ"
      }
    },
    {
      "cell_type": "markdown",
      "source": [
        "Моя перша мова на спеціальності була Java, і як я зрозумів, self дуже схожий на this в Java. Що це значить? Це значить, що за допомогою self я оперую з полями в середині класу з обʼєктом цього класу.\n",
        "Метод __init__ викорстовується, так би мовити, щоб сказати класу в якому ми це пишемо, що у нього є якісь поля. Якщо привести до Java знов, то це можна назвати конструктором"
      ],
      "metadata": {
        "id": "DyiPqNRvMasx"
      }
    },
    {
      "cell_type": "markdown",
      "source": [
        "5. (9б). Створіть клас 3D-фігура без атрибутів, з методом get_volume для отримання об'єму фігури, що повертає 0 та __add __, який приймає self та other в якості аргументів, а повертає суму об'ємів 3d-фігур self та other."
      ],
      "metadata": {
        "id": "-6X8EGfjMd2y"
      }
    },
    {
      "cell_type": "code",
      "source": [
        "class Three_dimension_figure:\n",
        "    def get_volume(self):\n",
        "        return 0\n",
        "\n",
        "    def __add__(self, other):\n",
        "        return self.get_volume() + other.get_volume()\n"
      ],
      "metadata": {
        "id": "4rvO_wYUMaEr"
      },
      "execution_count": 32,
      "outputs": []
    },
    {
      "cell_type": "markdown",
      "source": [
        "6. (11б). Створіть 2 дочірніх класи від 3d-фігура: Циліндр та Куб, які мають атрибути, необхідні для розрахунку об'єму. Визначте метод get_volume в кожному з них так, щоби вони розраховували об'єм у залежності від формули для кожного типу фігури. Створіть обʼєкт класу Циліндр та обʼєкт класу Куб. Виконайте операцію суми за допомогою оператора + між ними, аби знайти сумарний об'єм."
      ],
      "metadata": {
        "id": "SFcKnnv5Mo_z"
      }
    },
    {
      "cell_type": "code",
      "source": [
        "class Cylinder(Three_dimension_figure):\n",
        "  def __init__(self, radius, height):\n",
        "      self.radius = radius\n",
        "      self.height = height\n",
        "  def get_volume(self):\n",
        "      return 3.14159 * self.radius ** 2 * self.height\n",
        "\n",
        "class Cube(Three_dimension_figure):\n",
        "  def __init__(self, side):\n",
        "      self.side = side\n",
        "\n",
        "  def get_volume(self):\n",
        "      return self.side ** 3\n",
        "\n",
        "\n",
        "cylinder = Cylinder(5, 2)\n",
        "cube = Cube(2)\n",
        "\n",
        "print(\"Volume cylinder:\", cylinder.get_volume())\n",
        "print(\"Cube volume:\", cube.get_volume())\n",
        "print(\"Summary:\", cylinder + cube)"
      ],
      "metadata": {
        "colab": {
          "base_uri": "https://localhost:8080/"
        },
        "id": "yA4meCzj9FtX",
        "outputId": "97766767-e38c-4d5b-f6d2-2eed224b054e"
      },
      "execution_count": 38,
      "outputs": [
        {
          "output_type": "stream",
          "name": "stdout",
          "text": [
            "Volume cylinder: 157.0795\n",
            "Cube volume: 8\n",
            "Summary: 165.0795\n"
          ]
        }
      ]
    },
    {
      "cell_type": "markdown",
      "source": [
        "7. (3б). Продемонструйте різницю між isinstance та issubclass."
      ],
      "metadata": {
        "id": "HCvR206YMvLK"
      }
    },
    {
      "cell_type": "code",
      "source": [
        "print(\"isinstance(cylinder, Cylinder):\", isinstance(cylinder, Cylinder))\n",
        "print(\"isinstance(cylinder, Three_dimension_figure):\", isinstance(cylinder, Three_dimension_figure))\n",
        "print(\"isinstance(cylinder, Cube):\", isinstance(cylinder, Cube))\n",
        "print(\"isinstance(cube, Three_dimension_figure):\", isinstance(cube, Three_dimension_figure))\n",
        "print(\"isinstance(cube, Cylinder):\", isinstance(cube, Cylinder))\n",
        "print()\n",
        "#about issubclass\n",
        "print(\"issubclass(Cylinder, Three_dimension_figure):\", issubclass(Cylinder, Three_dimension_figure))\n",
        "print(\"issubclass(Cube, Three_dimension_figure):\", issubclass(Cube, Three_dimension_figure))\n",
        "print(\"issubclass(Cylinder, Cube):\", issubclass(Cylinder, Cube))\n",
        "print(\"issubclass(Three_dimension_figure, Cylinder):\", issubclass(Three_dimension_figure, Cylinder))"
      ],
      "metadata": {
        "id": "L_V1bBvDM0GN",
        "colab": {
          "base_uri": "https://localhost:8080/"
        },
        "outputId": "86794f23-71f9-407e-f95e-97db63ec5ea5"
      },
      "execution_count": 41,
      "outputs": [
        {
          "output_type": "stream",
          "name": "stdout",
          "text": [
            "isinstance(cylinder, Cylinder): True\n",
            "isinstance(cylinder, Three_dimension_figure): True\n",
            "isinstance(cylinder, Cube): False\n",
            "isinstance(cube, Three_dimension_figure): True\n",
            "isinstance(cube, Cylinder): False\n",
            "\n",
            "issubclass(Cylinder, Three_dimension_figure): True\n",
            "issubclass(Cube, Three_dimension_figure): True\n",
            "issubclass(Cylinder, Cube): False\n",
            "issubclass(Three_dimension_figure, Cylinder): False\n"
          ]
        }
      ]
    },
    {
      "cell_type": "markdown",
      "source": [
        "8. (13б). Створіть клас EWallet з приватними атрибутами balance та id. Реалізуйте методи поповнення та зняття коштів, забезпечивши належну інкапсуляцію. Підказка: використовуйте декоратори property та setter."
      ],
      "metadata": {
        "id": "jjsaBZ-iM0Qq"
      }
    },
    {
      "cell_type": "code",
      "source": [
        "class EWallet:\n",
        "  def __init__(self, id, start_balance=0):\n",
        "        self.__id = id\n",
        "        self.__balance = start_balance\n",
        "  @property\n",
        "  def balance(self):\n",
        "      return self.__balance\n",
        "\n",
        "  @balance.setter\n",
        "  def balance(self, value):\n",
        "      if value < 0:\n",
        "          print(\"Balance cannot be negative\")\n",
        "      self.__balance = value\n",
        "\n",
        "  @property\n",
        "  def id(self):\n",
        "      return self.__id\n",
        "\n",
        "  def deposit(self, amount):\n",
        "      if amount <= 0:\n",
        "          print(\"Deposit amount must be positive\")\n",
        "      self.__balance += amount\n",
        "\n",
        "  def withdraw(self, amount):\n",
        "        if amount <= 0:\n",
        "            print(\"Withdrawal amount must be positive\")\n",
        "        if amount > self.__balance:\n",
        "            print(\"Insufficient funds\")\n",
        "        self.__balance -= amount\n",
        "\n",
        "wallet = EWallet(\"9999\", 9998)\n",
        "\n",
        "print(\"ID:\", wallet.id)\n",
        "print(\"Start balance:\", wallet.balance)\n",
        "\n",
        "wallet.deposit(22)\n",
        "print(\"After deposit of 22:\", wallet.balance)\n",
        "\n",
        "wallet.withdraw(100)\n",
        "print(\"After withdrawal of 100:\", wallet.balance)\n",
        "\n",
        "try:\n",
        "    wallet.withdraw(100000)\n",
        "except ValueError as e:\n",
        "    print(\"Error:\", e)\n",
        "\n",
        "try:\n",
        "    wallet.balance = -10\n",
        "except ValueError as e:\n",
        "    print(\"Error:\", e)"
      ],
      "metadata": {
        "id": "xCvZ7lh8M7YA"
      },
      "execution_count": 52,
      "outputs": []
    },
    {
      "cell_type": "markdown",
      "source": [
        "9. (11б). Створіть клас ShoppingCart, який містить список об'єктів типу Item. Реалізуйте методи для додавання айтемів, їх видалення та відображення списку айтемів."
      ],
      "metadata": {
        "id": "tIzL2SJTM8ft"
      }
    },
    {
      "cell_type": "code",
      "source": [
        "class Item:\n",
        "    def __init__(self, name, price):\n",
        "        self.name = name\n",
        "        self.price = price\n",
        "\n",
        "    def __str__(self):\n",
        "        return f\"{self.name} (${self.price})\""
      ],
      "metadata": {
        "id": "SU2y5spdGWg4"
      },
      "execution_count": 89,
      "outputs": []
    },
    {
      "cell_type": "code",
      "source": [
        "class ShoppingCart:\n",
        "    def __init__(self):\n",
        "        self.items = []\n",
        "\n",
        "    def add_item(self, item):\n",
        "        self.items.append(item)\n",
        "\n",
        "    def remove_item(self, item_name):\n",
        "          for item in self.items:\n",
        "              if item.name.lower() == item_name.lower():\n",
        "                  self.items.remove(item)\n",
        "                  return\n",
        "          print(f\"'{item_name}' not found\")\n",
        "\n",
        "    def display_items(self):\n",
        "        if not self.items:\n",
        "            print(\"Cart is empty\")\n",
        "        else:\n",
        "            print(\"Items in cart:\")\n",
        "            for item in self.items:\n",
        "                print(f\" - {item}\")\n"
      ],
      "metadata": {
        "id": "HWxfJKLtNAUZ"
      },
      "execution_count": 88,
      "outputs": []
    },
    {
      "cell_type": "code",
      "source": [
        "cart = ShoppingCart()\n",
        "\n",
        "item1 = Item(\"Finance book\", 10)\n",
        "item2 = Item(\"Notebook\", 20)\n",
        "item3 = Item(\"door\", 100)\n",
        "\n",
        "cart.add_item(item1)\n",
        "cart.add_item(item2)\n",
        "cart.add_item(item3)\n",
        "\n",
        "cart.display_items()\n",
        "\n",
        "cart.remove_item(\"door\")\n",
        "cart.display_items()\n",
        "cart.remove_item(\"notebook\")\n",
        "cart.display_items()\n",
        "cart.remove_item(\"tralala\")"
      ],
      "metadata": {
        "colab": {
          "base_uri": "https://localhost:8080/"
        },
        "id": "xneACQBQWzYi",
        "outputId": "2397377f-0b79-4122-8f0e-cbbbc88f51f1"
      },
      "execution_count": 90,
      "outputs": [
        {
          "output_type": "stream",
          "name": "stdout",
          "text": [
            "Items in cart:\n",
            " - Finance book ($10)\n",
            " - Notebook ($20)\n",
            " - door ($100)\n",
            "Items in cart:\n",
            " - Finance book ($10)\n",
            " - Notebook ($20)\n",
            "Items in cart:\n",
            " - Finance book ($10)\n",
            "'tralala' not found\n"
          ]
        }
      ]
    },
    {
      "cell_type": "markdown",
      "source": [
        "10. (13б). Створіть клас Vehicle з атрибутами brand (manufacturer) та production_age. Створіть ще один клас Engine з такими атрибутами, як type (ex. petrol) та size (volume, litres). Створіть клас Car, який успадковує обидва класи Vehicle та Engine. Продемонструйте використання множинної спадковості, створивши обʼєкт класу Car та отримавши mro для цього класу."
      ],
      "metadata": {
        "id": "lmV8pAwwNIqu"
      }
    },
    {
      "cell_type": "code",
      "source": [
        "class Vehicle:\n",
        "    def __init__(self, brand, production_age):\n",
        "        self.brand = brand\n",
        "        self.production_age = production_age\n",
        "\n",
        "    def get_vehicle_info(self):\n",
        "        return f\"Brand: {self.brand}, Age: {self.production_age}\"\n"
      ],
      "metadata": {
        "id": "n9H4Y9nfJicL"
      },
      "execution_count": 69,
      "outputs": []
    },
    {
      "cell_type": "code",
      "source": [
        "\n",
        "class Engine:\n",
        "    def __init__(self, type, size):\n",
        "        self.type = type\n",
        "        self.size = size\n",
        "\n",
        "    def get_engine_info(self):\n",
        "        return f\"Type engine: {self.type}, Size: {self.size}L\""
      ],
      "metadata": {
        "id": "vXg42w5QJixa"
      },
      "execution_count": 70,
      "outputs": []
    },
    {
      "cell_type": "code",
      "source": [
        "class Car(Vehicle, Engine):\n",
        "    def __init__(self, brand, production_age, type, size):\n",
        "        Vehicle.__init__(self, brand, production_age)\n",
        "        Engine.__init__(self, type, size)\n",
        "\n",
        "    def print_full_info(self):\n",
        "        return f\"{self.get_vehicle_info()}, {self.get_engine_info()}\""
      ],
      "metadata": {
        "id": "R49grKlWNPeN"
      },
      "execution_count": 73,
      "outputs": []
    },
    {
      "cell_type": "code",
      "source": [
        "my_car = Car(\"VolksWagen\", 2013, \"Petrol\", 1.4)\n",
        "\n",
        "print(my_car.print_full_info())\n",
        "\n",
        "print(\"mro:\", Car.__mro__)"
      ],
      "metadata": {
        "colab": {
          "base_uri": "https://localhost:8080/"
        },
        "id": "HlVUEWiSJx7r",
        "outputId": "9d411d27-6d5a-495c-9196-ff6e6e83b513"
      },
      "execution_count": 74,
      "outputs": [
        {
          "output_type": "stream",
          "name": "stdout",
          "text": [
            "Brand: VolksWagen, Age: 2013, Type engine: Petrol, Size: 1.4L\n",
            "mro: (<class '__main__.Car'>, <class '__main__.Vehicle'>, <class '__main__.Engine'>, <class 'object'>)\n"
          ]
        }
      ]
    },
    {
      "cell_type": "markdown",
      "source": [
        "# II. Iterator"
      ],
      "metadata": {
        "id": "dIJyUiNBFG8G"
      }
    },
    {
      "cell_type": "markdown",
      "source": [
        "11. (4б). Визначте рядок(str) з 4ма різними за значенням символами. Створіть ітератор на основі цього рядка. Викличте 5 разів функцію next на ітераторі, 4ри перших з них огорніть у ф-цію print()."
      ],
      "metadata": {
        "id": "13vsm0NyKIzL"
      }
    },
    {
      "cell_type": "code",
      "source": [
        "dota_string = \"zxcv\"\n",
        "dota_iterator = iter(my_string)\n",
        "\n",
        "print(next(dota_iterator))\n",
        "print(next(dota_iterator))\n",
        "print(next(dota_iterator))\n",
        "print(next(dota_iterator))\n",
        "next(dota_iterator)"
      ],
      "metadata": {
        "id": "81ntabAkKuz-",
        "colab": {
          "base_uri": "https://localhost:8080/",
          "height": 257
        },
        "outputId": "2c1399cf-28ed-4d2e-d0e2-90fcbfdb8eb5"
      },
      "execution_count": 87,
      "outputs": [
        {
          "output_type": "stream",
          "name": "stdout",
          "text": [
            "z\n",
            "x\n",
            "c\n",
            "v\n"
          ]
        },
        {
          "output_type": "error",
          "ename": "StopIteration",
          "evalue": "",
          "traceback": [
            "\u001b[0;31m---------------------------------------------------------------------------\u001b[0m",
            "\u001b[0;31mStopIteration\u001b[0m                             Traceback (most recent call last)",
            "\u001b[0;32m<ipython-input-87-4ceab0e785cf>\u001b[0m in \u001b[0;36m<cell line: 0>\u001b[0;34m()\u001b[0m\n\u001b[1;32m      6\u001b[0m \u001b[0mprint\u001b[0m\u001b[0;34m(\u001b[0m\u001b[0mnext\u001b[0m\u001b[0;34m(\u001b[0m\u001b[0mdota_iterator\u001b[0m\u001b[0;34m)\u001b[0m\u001b[0;34m)\u001b[0m\u001b[0;34m\u001b[0m\u001b[0;34m\u001b[0m\u001b[0m\n\u001b[1;32m      7\u001b[0m \u001b[0mprint\u001b[0m\u001b[0;34m(\u001b[0m\u001b[0mnext\u001b[0m\u001b[0;34m(\u001b[0m\u001b[0mdota_iterator\u001b[0m\u001b[0;34m)\u001b[0m\u001b[0;34m)\u001b[0m\u001b[0;34m\u001b[0m\u001b[0;34m\u001b[0m\u001b[0m\n\u001b[0;32m----> 8\u001b[0;31m \u001b[0mnext\u001b[0m\u001b[0;34m(\u001b[0m\u001b[0mdota_iterator\u001b[0m\u001b[0;34m)\u001b[0m\u001b[0;34m\u001b[0m\u001b[0;34m\u001b[0m\u001b[0m\n\u001b[0m",
            "\u001b[0;31mStopIteration\u001b[0m: "
          ]
        }
      ]
    },
    {
      "cell_type": "markdown",
      "source": [
        "А що якщо викликати цю ж функцію на рядку?"
      ],
      "metadata": {
        "id": "aekWHGXOLRsO"
      }
    },
    {
      "cell_type": "code",
      "source": [
        "dota_string = \"zxcv\"\n",
        "\n",
        "print(next(dota_string))\n",
        "print(next(dota_string))\n",
        "print(next(dota_string))\n",
        "print(next(dota_string))\n"
      ],
      "metadata": {
        "id": "mxATGsErLV1i",
        "colab": {
          "base_uri": "https://localhost:8080/",
          "height": 221
        },
        "outputId": "7edc57f4-6839-4b50-8dc0-31641e8e72fb"
      },
      "execution_count": 86,
      "outputs": [
        {
          "output_type": "error",
          "ename": "TypeError",
          "evalue": "'str' object is not an iterator",
          "traceback": [
            "\u001b[0;31m---------------------------------------------------------------------------\u001b[0m",
            "\u001b[0;31mTypeError\u001b[0m                                 Traceback (most recent call last)",
            "\u001b[0;32m<ipython-input-86-ce506100ef37>\u001b[0m in \u001b[0;36m<cell line: 0>\u001b[0;34m()\u001b[0m\n\u001b[1;32m      1\u001b[0m \u001b[0mdota_string\u001b[0m \u001b[0;34m=\u001b[0m \u001b[0;34m\"zxcv\"\u001b[0m\u001b[0;34m\u001b[0m\u001b[0;34m\u001b[0m\u001b[0m\n\u001b[1;32m      2\u001b[0m \u001b[0;34m\u001b[0m\u001b[0m\n\u001b[0;32m----> 3\u001b[0;31m \u001b[0mprint\u001b[0m\u001b[0;34m(\u001b[0m\u001b[0mnext\u001b[0m\u001b[0;34m(\u001b[0m\u001b[0mdota_string\u001b[0m\u001b[0;34m)\u001b[0m\u001b[0;34m)\u001b[0m\u001b[0;34m\u001b[0m\u001b[0;34m\u001b[0m\u001b[0m\n\u001b[0m\u001b[1;32m      4\u001b[0m \u001b[0mprint\u001b[0m\u001b[0;34m(\u001b[0m\u001b[0mnext\u001b[0m\u001b[0;34m(\u001b[0m\u001b[0mdota_string\u001b[0m\u001b[0;34m)\u001b[0m\u001b[0;34m)\u001b[0m\u001b[0;34m\u001b[0m\u001b[0;34m\u001b[0m\u001b[0m\n\u001b[1;32m      5\u001b[0m \u001b[0mprint\u001b[0m\u001b[0;34m(\u001b[0m\u001b[0mnext\u001b[0m\u001b[0;34m(\u001b[0m\u001b[0mdota_string\u001b[0m\u001b[0;34m)\u001b[0m\u001b[0;34m)\u001b[0m\u001b[0;34m\u001b[0m\u001b[0;34m\u001b[0m\u001b[0m\n",
            "\u001b[0;31mTypeError\u001b[0m: 'str' object is not an iterator"
          ]
        }
      ]
    },
    {
      "cell_type": "markdown",
      "source": [
        " 12. (5б). Опишіть своїми словами в одному реченні, як ви розумієте різницю між ітерабельними обʼєктами та ітераторами (можна на прикладі)."
      ],
      "metadata": {
        "id": "XwtMEopwJ4pH"
      }
    },
    {
      "cell_type": "markdown",
      "source": [
        "Ітерабильний обʼєкт це такий тип обʼєкту, до якого можна застосувати цикли, ми вчили що це списки, кортежі і тд, а ітератор це об'єкт, який зберігає свій поточний стан і дає можливість отримати елементи по одному. На реальному прикладі можна сказати, що колода карт це ітерабельний обʼєкт, а людина що роздає карти це ітератор"
      ],
      "metadata": {
        "id": "-sHrODc3KFn8"
      }
    },
    {
      "cell_type": "markdown",
      "source": [
        "13. (11б). Створіть клас, що має визначений Iterator Protocol та при кожному виклику next повертає назву дня тижня, поки вони не вичерпаються. Зверніть увагу, що порядок має значення."
      ],
      "metadata": {
        "id": "E9qJWmNbK8Gl"
      }
    },
    {
      "cell_type": "code",
      "source": [
        "class Full_week:\n",
        "    def __init__(self):\n",
        "        self.days = [\"Monday\", \"Tuesday\", \"Wednesday\", \"Thursday\", \"Friday\", \"Saturday\", \"Sunday\"]\n",
        "        self.index = 0\n",
        "\n",
        "    def __iter__(self):\n",
        "        return self\n",
        "\n",
        "    def __next__(self):\n",
        "        if self.index >= len(self.days):\n",
        "            raise StopIteration\n",
        "        day = self.days[self.index]\n",
        "        self.index += 1\n",
        "        return day\n",
        "\n",
        "week = Full_week()\n",
        "for d in week:\n",
        "    print(d)"
      ],
      "metadata": {
        "id": "cqx-g_RsLo6I",
        "colab": {
          "base_uri": "https://localhost:8080/"
        },
        "outputId": "9bb1b3ce-5072-41b3-af7c-a28be9a06fae"
      },
      "execution_count": 76,
      "outputs": [
        {
          "output_type": "stream",
          "name": "stdout",
          "text": [
            "Monday\n",
            "Tuesday\n",
            "Wednesday\n",
            "Thursday\n",
            "Friday\n",
            "Saturday\n",
            "Sunday\n"
          ]
        }
      ]
    },
    {
      "cell_type": "markdown",
      "source": [
        "# Вітаю! Ви велика(ий) молодець, що впоралась(вся). Похваліть себе та побалуйте чимось приємним. Я Вами пишаюся."
      ],
      "metadata": {
        "id": "Z3E3S_s1Fv7-"
      }
    }
  ]
}