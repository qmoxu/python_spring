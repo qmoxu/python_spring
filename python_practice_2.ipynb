{
 "nbformat": 4,
 "nbformat_minor": 0,
 "metadata": {
  "colab": {
   "provenance": []
  },
  "kernelspec": {
   "name": "python3",
   "display_name": "Python 3 (ipykernel)",
   "language": "python"
  },
  "language_info": {
   "name": "python"
  }
 },
 "cells": [
  {
   "cell_type": "markdown",
   "source": [
    "# I. Змінні та памʼять."
   ],
   "metadata": {
    "id": "p9wwt0LZzNvn"
   }
  },
  {
   "cell_type": "markdown",
   "source": [
    "1. Створити змінні, що посилаються на два цілих числа, що однакові за значенням, де значення належить проміжку від -5 до 256. Перевірте, чи будуть ці змінні рівні тільки за значенням або ж ще будуть посилатися на один і той самий обʼєкт в памʼяті? Наведіть код та дайте текстову відповідь нижче."
   ],
   "metadata": {
    "id": "HTJrrm95xSV9"
   }
  },
  {
   "cell_type": "code",
   "execution_count": null,
   "metadata": {
    "id": "TATni2vzayjG",
    "colab": {
     "base_uri": "https://localhost:8080/"
    },
    "outputId": "fb44eceb-f694-4962-dd12-bacae0568d43"
   },
   "outputs": [
    {
     "output_type": "stream",
     "name": "stdout",
     "text": [
      "10751144 10751144\n"
     ]
    }
   ],
   "source": [
    "int_a = 10\n",
    "int_b = 10\n",
    "print(id(int_a),id(int_b))\n"
   ]
  },
  {
   "cell_type": "markdown",
   "source": [
    "*місце для текстової відповіді"
   ],
   "metadata": {
    "id": "zfRG_o3WbRdg"
   }
  },
  {
   "cell_type": "markdown",
   "source": [
    "дивлячись на написаний код, можна зрозуміти, що ці дві змінні посилаються по факту на одну комірку памʼяті, так як число одне і в діапазоні від -5 до 256. Це певна оптимізація від Python\n"
   ],
   "metadata": {
    "id": "RtIbMM949C5Z"
   }
  },
  {
   "cell_type": "markdown",
   "source": [
    "2. За допомогою якої функції можна перевірити належність змінної до вказаного типу даних (напр. чи змінна True посилається на значення булевого та цілочисленого типу)?"
   ],
   "metadata": {
    "id": "ISORzt6M3vAt"
   }
  },
  {
   "cell_type": "code",
   "source": [
    "boolean_a = True\n",
    "print(type(boolean_a))\n",
    "print(isinstance(boolean_a, int))\n",
    "print(isinstance(boolean_a, bool))"
   ],
   "metadata": {
    "id": "9vL9CFaMbfyo",
    "colab": {
     "base_uri": "https://localhost:8080/"
    },
    "outputId": "340f32ab-8c2e-4c68-e85a-4e6ac8c30c5d"
   },
   "execution_count": null,
   "outputs": [
    {
     "output_type": "stream",
     "name": "stdout",
     "text": [
      "<class 'bool'>\n",
      "True\n",
      "True\n"
     ]
    }
   ]
  },
  {
   "cell_type": "markdown",
   "source": [
    "# II. Цілі числа та числа з рухомою комою"
   ],
   "metadata": {
    "id": "tRxugKAxwYLw"
   }
  },
  {
   "cell_type": "markdown",
   "source": [
    "3. Створити дві змінні, що посилаються на будь-які ціле число та число з рухомою комою та продемонструвати такі арифметичні операції: додавання, віднімання, ділення, множення, ділення без залишку, ділення по модулю, приведення до ступеню. Всі результати операцій вивести на екран."
   ],
   "metadata": {
    "id": "NLHkgd5Gybc8"
   }
  },
  {
   "cell_type": "code",
   "source": [
    "int_a = 10\n",
    "float_b = 9.15\n",
    "str_to_print = f\"{int_a} + {float_b} = {int_a + float_b }\"\n",
    "print (str_to_print)\n",
    "str_to_print = f\"{int_a} - {float_b} = { int_a - float_b }\"\n",
    "print (str_to_print)\n",
    "str_to_print = f\"{int_a} / {float_b} = {int_a / float_b}\"\n",
    "print (str_to_print)\n",
    "str_to_print = f\"{int_a} * {float_b} = {int_a * float_b}\"\n",
    "print(str_to_print)\n",
    "str_to_print = f\"{int_a} // {float_b} = {int_a // float_b}\"\n",
    "print(str_to_print)\n",
    "int_a = 35\n",
    "float_b = -3.5\n",
    "str_to_print = f\"|{int_a}| / |{float_b}| = {abs(int_a) /  abs(float_b)}\"\n",
    "print(str_to_print)\n",
    "int_a = 2\n",
    "float_b = 4.4\n",
    "power = 2\n",
    "str_int = f\"{int_a}^ {power} = {int_a ** power}\"\n",
    "print(str_int)\n",
    "str_float = f\"{float_b}^{power} = {float_b ** power}\"\n",
    "print(str_float)"
   ],
   "metadata": {
    "id": "nb8u_3pjb2cA",
    "colab": {
     "base_uri": "https://localhost:8080/"
    },
    "outputId": "14e72ca4-22c8-4e1e-ee31-d7ca8344256c"
   },
   "execution_count": null,
   "outputs": [
    {
     "output_type": "stream",
     "name": "stdout",
     "text": [
      "10 + 9.15 = 19.15\n",
      "10 - 9.15 = 0.8499999999999996\n",
      "10 / 9.15 = 1.0928961748633879\n",
      "10 * 9.15 = 91.5\n",
      "10 // 9.15 = 1.0\n",
      "|35| / |-3.5| = 10.0\n",
      "2^ 2 = 4\n",
      "4.4^2 = 19.360000000000003\n"
     ]
    }
   ]
  },
  {
   "cell_type": "markdown",
   "source": [
    "4. Використовуючи змінні з вправи 3, продемонструйте механізм явного перетворення типів, де числа з рухомою комою перетворюються на цілі числа. Також визначте змінну, що посилається на значення булевого типу і спробуйте явно привести її до цілого числа."
   ],
   "metadata": {
    "id": "1kBClKgPzZnC"
   }
  },
  {
   "cell_type": "code",
   "source": [
    "import math\n",
    "float_b = 10.7\n",
    "print(float_b)\n",
    "print((float_b).is_integer())\n",
    "float_b = int(float_b)\n",
    "print(float_b)\n",
    "#or another way how to downward type\n",
    "\n",
    "float_b = 80.5\n",
    "print(float_b)\n",
    "float_b = math.trunc(float_b)\n",
    "print(float_b)\n",
    "#from bool to int\n",
    "\n",
    "bool_to_change = True\n",
    "print(bool_to_change)\n",
    "bool_to_change =int(bool_to_change)\n",
    "print(bool_to_change)\n",
    "#check if works in both ways\n",
    "\n",
    "bool_to_change = 0\n",
    "print(bool_to_change)\n",
    "bool_to_change = bool(bool_to_change)\n",
    "print(bool_to_change)\n"
   ],
   "metadata": {
    "id": "TbqJbkeUcKsD",
    "colab": {
     "base_uri": "https://localhost:8080/"
    },
    "outputId": "95e8a8b3-d98a-4973-f018-f7a3e81be74b"
   },
   "execution_count": null,
   "outputs": [
    {
     "output_type": "stream",
     "name": "stdout",
     "text": [
      "10.7\n",
      "False\n",
      "10\n",
      "80.5\n",
      "80\n",
      "True\n",
      "1\n",
      "0\n",
      "False\n"
     ]
    }
   ]
  },
  {
   "cell_type": "markdown",
   "source": [
    "# IІІ. Рядки (String)."
   ],
   "metadata": {
    "id": "EVJ7AflwxrZi"
   }
  },
  {
   "cell_type": "markdown",
   "source": [
    "5. Створити пустий рядок двома різними способами."
   ],
   "metadata": {
    "id": "_s5ECzz9zE61"
   }
  },
  {
   "cell_type": "markdown",
   "source": [
    "чесно кажучи, не зовсім зрозумів суть завдання, тому про всяк випадок написав третій варіант."
   ],
   "metadata": {
    "id": "Nq6TLtdZ8jiC"
   }
  },
  {
   "cell_type": "code",
   "source": [
    "first_variant_str = \"\"\n",
    "second_variant_str = ''\n",
    "third_variant_str = str()"
   ],
   "metadata": {
    "id": "fkZJHu9Scvc-",
    "colab": {
     "base_uri": "https://localhost:8080/"
    },
    "outputId": "b8cbf0b7-3306-4070-8c15-582df31eba22",
    "ExecuteTime": {
     "end_time": "2025-03-19T21:49:33.027762Z",
     "start_time": "2025-03-19T21:49:33.002135Z"
    }
   },
   "outputs": [],
   "execution_count": 2
  },
  {
   "cell_type": "markdown",
   "source": [
    "6. Створити рядок з апострофом. Зробити його сирим. Вивести обидва рядка на екран."
   ],
   "metadata": {
    "id": "4Bdn9J3MzLf_"
   }
  },
  {
   "cell_type": "code",
   "source": [
    "string_default = \" defalt string with  \\' \\\\s \\\\a\"\n",
    "print(string_default)\n",
    "raw_string = r\"raw string with \\'  \\\\s \\\\a\"\n",
    "print (raw_string)"
   ],
   "metadata": {
    "id": "ivji_hsmc0GH",
    "colab": {
     "base_uri": "https://localhost:8080/"
    },
    "outputId": "54aee241-1d79-4063-b20d-994bace200e8"
   },
   "execution_count": null,
   "outputs": [
    {
     "output_type": "stream",
     "name": "stdout",
     "text": [
      " defalt string with  ' \\s \\a\n",
      "raw string with \\'  \\\\s \\\\a\n"
     ]
    }
   ]
  },
  {
   "cell_type": "markdown",
   "source": [
    "Тут можна побачити різницю між сирим рядком і звичайним. Сирий виводить реально все, що в ньому є, на відміну від звичайного рядка( без \"r\" на початку)"
   ],
   "metadata": {
    "id": "LF4leuXg_IGJ"
   }
  },
  {
   "cell_type": "markdown",
   "source": [
    "7. Створити змінну, що буде посилатися на Ваше прізвище латинкою. Створити форматований рядок, який буде мати вигляд \"My surname is ______\", де на місці нижніх підкреслень буде Ваше прізвище зі змінної."
   ],
   "metadata": {
    "id": "bg_d8wM4z8dS"
   }
  },
  {
   "cell_type": "code",
   "source": [
    "str_surname = \"Prokopchuk\"\n",
    "str_to_print = f\"My surname is {str_surname}\"\n",
    "print(str_to_print)"
   ],
   "metadata": {
    "id": "kuxFgpWndACq",
    "colab": {
     "base_uri": "https://localhost:8080/"
    },
    "outputId": "c46aff1b-ca71-445d-a29f-b73f99f90adf"
   },
   "execution_count": null,
   "outputs": [
    {
     "output_type": "stream",
     "name": "stdout",
     "text": [
      "My surname is Prokopchuk\n"
     ]
    }
   ]
  },
  {
   "cell_type": "markdown",
   "source": [
    "8. Маючи рядок \"My dog is crazy.\" перетворити його на список [\"my\", \"dog\", \"is\", \"crazy\"]"
   ],
   "metadata": {
    "id": "1Nc6RqvQ0hxU"
   }
  },
  {
   "cell_type": "code",
   "source": [
    "str_dog = \"My dog is crazy.\"\n",
    "str_dog = str_dog.replace(\".\", \"\")\n",
    "str_dog = str_dog.lower()\n",
    "print(str_dog)\n",
    "list_abt_dog = str_dog.split()\n",
    "print(list_abt_dog)"
   ],
   "metadata": {
    "id": "w1Ya4RqedUhw",
    "colab": {
     "base_uri": "https://localhost:8080/"
    },
    "outputId": "5be707c1-e476-4f0a-9c26-1a6c244e8824"
   },
   "execution_count": null,
   "outputs": [
    {
     "output_type": "stream",
     "name": "stdout",
     "text": [
      "my dog is crazy\n",
      "['my', 'dog', 'is', 'crazy']\n"
     ]
    }
   ]
  },
  {
   "cell_type": "markdown",
   "source": [
    "# IV. Робота зі списками."
   ],
   "metadata": {
    "id": "GYVqN9uP1D4n"
   }
  },
  {
   "cell_type": "markdown",
   "source": [
    "9. Створити список двома різними за синтаксисом способами. За допомогою вбудованої функції обчисліть довжину одного з них."
   ],
   "metadata": {
    "id": "7-DeDunw2sO-"
   }
  },
  {
   "cell_type": "code",
   "source": [
    "list_1 = [1,2,4,3,10]\n",
    "list_2 = list((1,2,3,4,7,5))\n",
    "print(\"Are they actually lists?\")\n",
    "print(isinstance(list_1, list), isinstance(list_2, list))\n",
    "print(\"What lenght of the second list?\")\n",
    "print(len(list_2))"
   ],
   "metadata": {
    "id": "zxg06Uuxdyoh",
    "colab": {
     "base_uri": "https://localhost:8080/"
    },
    "outputId": "42b0e2c8-63b5-49c2-fd55-d9f69eadc8d9"
   },
   "execution_count": null,
   "outputs": [
    {
     "output_type": "stream",
     "name": "stdout",
     "text": [
      "Are they actually lists?\n",
      "True True\n",
      "What lenght of the second list?\n",
      "6\n"
     ]
    }
   ]
  },
  {
   "cell_type": "markdown",
   "source": [
    "10. Створіть два списка та за допомогою спеціального методу додайте другий з них в якості останнього елемента першого."
   ],
   "metadata": {
    "id": "8vmGUTjL22gI"
   }
  },
  {
   "cell_type": "code",
   "source": [
    "list_1 = list((1,2,3,4,7,5))\n",
    "list_2 = [1,5,4,3,8]\n",
    "list_1.insert(len(list_1),list_2)\n",
    "print(list_1)"
   ],
   "metadata": {
    "id": "uHtjWYw7d7hm",
    "colab": {
     "base_uri": "https://localhost:8080/"
    },
    "outputId": "05f536d9-dbe9-4241-a88e-c8e30561dee7"
   },
   "execution_count": null,
   "outputs": [
    {
     "output_type": "stream",
     "name": "stdout",
     "text": [
      "[1, 2, 3, 4, 7, 5, [1, 5, 4, 3, 8]]\n"
     ]
    }
   ]
  },
  {
   "cell_type": "markdown",
   "source": [
    "11. Створіть список, де елементами цього списку також є списки. Отримай перший елемент з останнього рядка та виведи значення на екран."
   ],
   "metadata": {
    "id": "JC3BkD-67_--"
   }
  },
  {
   "cell_type": "code",
   "source": [
    "list_1 = [10,11,54]\n",
    "list_2 = [50,30,18]\n",
    "list_3 = [20,32,29]\n",
    "list_4 = []\n",
    "list_4.insert(0,list_1)\n",
    "list_4.insert(len(list_1),list_2)\n",
    "list_4.insert(len(list_1 + list_2),list_3)\n",
    "print(list_4)\n",
    "res = list_4[2]\n",
    "print(res[0])"
   ],
   "metadata": {
    "id": "Kz2jZHsGeLlz",
    "colab": {
     "base_uri": "https://localhost:8080/"
    },
    "outputId": "48335599-2803-4df3-d2a3-3c6891867824",
    "ExecuteTime": {
     "end_time": "2025-03-19T21:49:33.090928Z",
     "start_time": "2025-03-19T21:49:33.054793Z"
    }
   },
   "outputs": [
    {
     "name": "stdout",
     "output_type": "stream",
     "text": [
      "[[10, 11, 54], [50, 30, 18], [20, 32, 29]]\n",
      "20\n"
     ]
    }
   ],
   "execution_count": 3
  },
  {
   "cell_type": "markdown",
   "source": [
    "12. Створіть список з десяти елементів різного типу. Отримайте всі елементи, окрім двох перших та двох останніх та збережіть їх в новій змінній."
   ],
   "metadata": {
    "id": "JA47PKTv8zFK"
   }
  },
  {
   "cell_type": "code",
   "source": [
    "list_of_everything = [10.4 , 5 , 'a' , True , 200 ,complex(20,-5), 'b', [3,6,7], 1.5 , False]\n",
    "print(len(list_of_everything))\n",
    "new_smaller_list = list_of_everything[2:len(list_of_everything) - 2]\n",
    "print(f\"{new_smaller_list} and it's size = {len(new_smaller_list)}\" )"
   ],
   "metadata": {
    "id": "_rHdUR-ueP4-",
    "colab": {
     "base_uri": "https://localhost:8080/"
    },
    "outputId": "4cafcd58-82c3-4c6f-b643-b49bdb3f456c"
   },
   "execution_count": null,
   "outputs": [
    {
     "output_type": "stream",
     "name": "stdout",
     "text": [
      "10\n",
      "['a', True, 200, (20-5j), 'b', [3, 6, 7]] and it's size = 6\n"
     ]
    }
   ]
  },
  {
   "cell_type": "markdown",
   "source": [
    "# V. Робота з кортежами."
   ],
   "metadata": {
    "id": "pCjR1dJb1Qbi"
   }
  },
  {
   "cell_type": "markdown",
   "source": [
    "14. Створити кортеж з один елементом."
   ],
   "metadata": {
    "id": "fAZCxAX06R_k"
   }
  },
  {
   "cell_type": "code",
   "source": [
    "tuple_1 = 1,\n",
    "print(f\"{isinstance(tuple_1, tuple)} , {tuple_1}\")"
   ],
   "metadata": {
    "id": "H7d82WkQev3e",
    "colab": {
     "base_uri": "https://localhost:8080/"
    },
    "outputId": "d6c1c840-19c5-450a-8fff-627f790aeb5c"
   },
   "execution_count": null,
   "outputs": [
    {
     "output_type": "stream",
     "name": "stdout",
     "text": [
      "True , (1,)\n"
     ]
    }
   ]
  },
  {
   "cell_type": "markdown",
   "source": [
    "15. Порівняйте список та кортеж. Назвіть схожості та відмінності, випадки використання."
   ],
   "metadata": {
    "id": "8LCtYcmI6w1M"
   }
  },
  {
   "cell_type": "markdown",
   "source": [
    "Спочатку схожості:\n",
    "*   Оба типи в документації Python входять до Sequence types, і це каже про те, що вони обидва підтримують доступ через індекс, ітерацію по елементах, можуть містити елементи різних типів і використовуватись в циклах\n",
    "Відмінності:\n",
    "*   Кортежі immutable, а списки mutable\n",
    "*   кортежі незмінні, через це вони швидші\n",
    "*   кортежі хешовані\n",
    "*   різні використовуються дужки\n",
    "\n",
    "Випадки використання:\n",
    "\n",
    "Списки можемо використовувати якщо нам треба буде змінювати дані після створення цієї структури\n",
    "Кортежі ж наприклад якщо треба структура констант в проекті"
   ],
   "metadata": {
    "id": "fUsN1Hnue0C6"
   }
  },
  {
   "cell_type": "markdown",
   "source": [
    "16. Створіть кортеж з 11ти елементів чисел з рухомою комою та отримайте кожен парний за індексом елемент в зворотньому порядку. Наприклад, маючи (1.2, 2.3, 3.3, 4.3, 5.3, 6.3, 7.3, 8.3, 9.3, 0.3), отримати (0.3, 8.3, 6.3, 4.3, 2.3). Результат збережіть в нову змінну та виведіть на екран."
   ],
   "metadata": {
    "id": "m0xrwFijAmDD"
   }
  },
  {
   "cell_type": "code",
   "source": [
    "eleven_tuple = (20.3, 10.2 , 100.1 , 1.1 , 5.8 , 6.2 , 8.8 , 9.0 , 0.1, 90.3)\n",
    "eleven_tuple = tuple(reversed(eleven_tuple))\n",
    "res_tuple = eleven_tuple[0:len(eleven_tuple):2]\n",
    "print(res_tuple)"
   ],
   "metadata": {
    "id": "p-5DAH6XfAGA",
    "colab": {
     "base_uri": "https://localhost:8080/"
    },
    "outputId": "0995093d-48ea-4736-b7cc-6b0e4ee3e699"
   },
   "execution_count": null,
   "outputs": [
    {
     "output_type": "stream",
     "name": "stdout",
     "text": [
      "(90.3, 9.0, 6.2, 1.1, 10.2)\n"
     ]
    }
   ]
  },
  {
   "cell_type": "markdown",
   "source": [
    "# VI. Множини (Set)."
   ],
   "metadata": {
    "id": "rW_I9dt3x6cW"
   }
  },
  {
   "cell_type": "markdown",
   "source": [
    "17. Створити множину без елементів. Після цого за допомогою методу додайте кілька різних елементів до множини. Чи множини є змінним типом даних?"
   ],
   "metadata": {
    "id": "zNjRLHLw1Bgg"
   }
  },
  {
   "cell_type": "code",
   "source": [
    "empty_set = set()\n",
    "empty_set.add(True)\n",
    "empty_set.add(0.00001)\n",
    "empty_set.add(\"tralala\")\n",
    "#or we can do like this\n",
    "# empty_set.update( [True, 0.00001 , \"tralala\"])\n",
    "print(empty_set)"
   ],
   "metadata": {
    "id": "KOv7zc2Kfo4N",
    "colab": {
     "base_uri": "https://localhost:8080/"
    },
    "outputId": "d4dade06-6c85-449d-b23a-55a8c63deff6"
   },
   "execution_count": null,
   "outputs": [
    {
     "output_type": "stream",
     "name": "stdout",
     "text": [
      "{1e-05, True, 'tralala'}\n"
     ]
    }
   ]
  },
  {
   "cell_type": "markdown",
   "source": [
    "Множини є змінним типом даних, бо можна додавати/видаляти/змінювати елементи множини після її створення"
   ],
   "metadata": {
    "id": "vxS6dVYiftZQ"
   }
  },
  {
   "cell_type": "markdown",
   "source": [
    "18. Створити множину, маючи список my_list = [1, 1, 2, 67, 67, 8, 9]. Пояснити, чому \"зникли\" деякі елементи."
   ],
   "metadata": {
    "id": "gHpT0Zw_1HEF"
   }
  },
  {
   "cell_type": "code",
   "source": [
    "my_list = [1, 1, 2, 67, 67, 8, 9]\n",
    "my_set = set(my_list)\n",
    "print(my_set)"
   ],
   "metadata": {
    "id": "qCN4uvJ_fxmu",
    "colab": {
     "base_uri": "https://localhost:8080/"
    },
    "outputId": "e23523fd-c550-4ff4-eefc-44bc94e456d9"
   },
   "execution_count": null,
   "outputs": [
    {
     "output_type": "stream",
     "name": "stdout",
     "text": [
      "{1, 2, 67, 8, 9}\n"
     ]
    }
   ]
  },
  {
   "cell_type": "markdown",
   "source": [
    "видалились повтори в множині, тому що це основна властивість множини - вона видаляє повтори, на відміну від списку, де зберігається просто все, що додали."
   ],
   "metadata": {
    "id": "tFNc1e20fyny"
   }
  },
  {
   "cell_type": "markdown",
   "source": [
    "19. Створіть дві множини. Продемонстуйте над ними операції: обʼєднання, різниці, пересічі та симетричної різниці. Використовуйте методи, що не змінюють множини, а створюють нові."
   ],
   "metadata": {
    "id": "SRMkGizS1UwY"
   }
  },
  {
   "cell_type": "code",
   "source": [
    "first_set = {'a','b','c','d','e','f'}\n",
    "second_set = {'d','e','f','g','h','i'}\n",
    "intersection = first_set & second_set\n",
    "union = first_set | second_set\n",
    "diff = first_set - second_set\n",
    "symmetric_diff = first_set ^ second_set\n",
    "print(intersection)\n",
    "print(union)\n",
    "print(diff)\n",
    "print(symmetric_diff)"
   ],
   "metadata": {
    "id": "h0T-VuDnf3Ri",
    "colab": {
     "base_uri": "https://localhost:8080/"
    },
    "outputId": "1cca0ab4-3e30-4fb3-d642-e358bb6dff9a"
   },
   "execution_count": null,
   "outputs": [
    {
     "output_type": "stream",
     "name": "stdout",
     "text": [
      "{'d', 'f', 'e'}\n",
      "{'f', 'e', 'd', 'g', 'a', 'b', 'c', 'i', 'h'}\n",
      "{'b', 'c', 'a'}\n",
      "{'g', 'a', 'b', 'c', 'i', 'h'}\n"
     ]
    }
   ]
  },
  {
   "cell_type": "markdown",
   "source": [
    "\n",
    "# VII. Словники (Dictionary)."
   ],
   "metadata": {
    "id": "kWc8gkzTx7Ea"
   }
  },
  {
   "cell_type": "markdown",
   "source": [
    "20. Створіть пустий словник. До нього додайте чотири пари елементів такі, щоб їхні ключі були різних типів. Чи може список бути ключем? Чому?"
   ],
   "metadata": {
    "id": "i5FLwj-B2ybQ"
   }
  },
  {
   "cell_type": "code",
   "source": [
    "empty_dict = {}\n",
    "empty_dict[1] = \"int as a key\"\n",
    "empty_dict[\"key\"] = \"str as a key\"\n",
    "empty_dict[0.66] = \"float as a key\"\n",
    "empty_dict[(0,1)] = \"tralala\"\n",
    "# my_list = [1, 2, 3]\n",
    "# empty_dict[my_list] = \"bubub\" #TypeError\n",
    "print(empty_dict)"
   ],
   "metadata": {
    "id": "hxgv3BzrgLAV",
    "colab": {
     "base_uri": "https://localhost:8080/"
    },
    "outputId": "4ee13d2a-9ba3-4f24-f032-5501c8d4ec55"
   },
   "execution_count": null,
   "outputs": [
    {
     "output_type": "stream",
     "name": "stdout",
     "text": [
      "{1: 'int as a key', 'key': 'str as a key', 0.66: 'float as a key', (0, 1): 'tralala'}\n"
     ]
    }
   ]
  },
  {
   "cell_type": "markdown",
   "source": [
    "Список не може бути ключем словника, бо список, як ми знаємо, mutable, а ключами можуть бути лише незмінні типи даних і які є хешованими.а якщо ми припустимо змінимо список, то в словнику ми вже не знайшли за старим хешом потрібне нам значення, яке мало б бути привʼязане до списку"
   ],
   "metadata": {
    "id": "zwa7UVN-gR3m"
   }
  },
  {
   "cell_type": "markdown",
   "source": [
    "21. Створіть словник, де значенням в одній з пар теж буде словник, який теж має вкладений словник. Виведіть на екран значення, що міститься в словнику, що знаходиться на найнижчому рівні ієрархії вкладеності (найбільш внутрішній)."
   ],
   "metadata": {
    "id": "WM_pMlJsgoNf"
   }
  },
  {
   "cell_type": "code",
   "source": [
    "three_times_deep_dict = {\n",
    "    \"car \" : \" VW Golf\",\n",
    "    \"year \" : 2013,\n",
    "    \"more info\" : {\n",
    "        \"owner\" : \"Vova Prokopchuk\",\n",
    "        \"engine\" : {\n",
    "        \"volume\" : \"1.4 L\",\n",
    "        \"horsepowers\" : 140,\n",
    "        \"torque\" : 200\n",
    "        }\n",
    "    },\n",
    "    \"region\" : \"odesa\"\n",
    "\n",
    "}\n",
    "what_i_need = three_times_deep_dict [\"more info\"] [\"engine\"] [\"horsepowers\"]\n",
    "print(what_i_need)"
   ],
   "metadata": {
    "id": "60dlP7IHhAy4",
    "colab": {
     "base_uri": "https://localhost:8080/"
    },
    "outputId": "1cc2c5c0-7ffb-4fd5-c6a8-b8d6a833a677"
   },
   "execution_count": null,
   "outputs": [
    {
     "output_type": "stream",
     "name": "stdout",
     "text": [
      "140\n"
     ]
    }
   ]
  },
  {
   "cell_type": "markdown",
   "source": [
    "# Вітаю! Ви велика(ий) молодець, що впоралась(вся). Похваліть себе та побалуйте чимось приємним. Я Вами пишаюся."
   ],
   "metadata": {
    "id": "xOZP0hkx6cCr"
   }
  }
 ]
}
